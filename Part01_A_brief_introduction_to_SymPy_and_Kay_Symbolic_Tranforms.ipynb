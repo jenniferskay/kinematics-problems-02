{
  "cells": [
    {
      "cell_type": "markdown",
      "id": "2574c857",
      "metadata": {
        "id": "2574c857"
      },
      "source": [
        "<h1 style=\"color:#EE3377\">\n",
        "     A Brief Introduction to SymPy and Dr. Kay's Symbolic Homogeneous Transformations Library\n",
        "</h1>\n",
        "\n",
        "\n",
        "## Jennifer Kay <br> kay@rowan.edu <br> Rowan University Computer Science Department\n",
        "\n",
        "Last update: 2022-10-25\n",
        "<p>&nbsp;</p>\n",
        "<a rel=\"license\" href=\"http://creativecommons.org/licenses/by-nc-sa/4.0/\"><img align=\"left\" alt=\"Creative Commons License\" style=\"border-width:0\" src=\"https://i.creativecommons.org/l/by-nc-sa/4.0/88x31.png\" /></a><br /><p></p>This work is licensed under a <a rel=\"license\" href=\"http://creativecommons.org/licenses/by-nc-sa/4.0/\">Creative Commons Attribution-NonCommercial-ShareAlike 4.0 International License</a>.\n",
        "\n",
        "Please note that the Non-Commercial nature of this document means that you do NOT have permission to share it on commercial websites!!\n",
        "\n",
        "In addition, please do not share your solutions!"
      ]
    },
    {
      "cell_type": "markdown",
      "id": "3515b732",
      "metadata": {
        "id": "3515b732"
      },
      "source": [
        "<h1 style=\"color:#EE3377\">\n",
        "    REMINDER: \n",
        "</h1>\n",
        "Once you've created a variable, function, etc. in this notebook, it lives forever unless you either reassign it or restart the Kernel. If you find yourself stuck down a dead end and aren't sure what variables have what values, you may want to:\n",
        "* Go to the Kernel Menu\n",
        "* Select \"Restart and Clear Output\"\n",
        "* Start back at the top of the page and run all the code cells again\n"
      ]
    },
    {
      "cell_type": "markdown",
      "id": "9f0bdcb1",
      "metadata": {
        "id": "9f0bdcb1"
      },
      "source": [
        "# Introduction to Symbolic Computation\n",
        "\n",
        "<a href = \"https://numpy.org/\">Numpy</a> and <a href =\"https://matplotlib.org/\">Matplotlib</a> are essential tools for data analytics and visualization, but they only work when you are number crunching and not, for example, if you want to do symbolic computation. And we need to do symbolic computation in Forward Kinematics.\n",
        "\n",
        "What do I mean by symbolic computation? Essentially, think non-numeric computation, like the use of symbols in algebra. For example, suppose that y is a variable that has NOT YET BEEN DEFINED, and you are told: \n",
        "* x = y + 2\n",
        "* z = x + 1\n",
        "\n",
        "From the pair of equations above, you could conclude that z = y+3 even though you still do not have a value for y. Indeed, you could compute z for a whole variety of y's.\n",
        "\n",
        "So for this next assignment we will be using <a href = \"https://www.sympy.org/en/index.html\">SymPy</a> which is a Python library for Symbolic Computation.  \n",
        "\n",
        "\n",
        "\n",
        "\n"
      ]
    },
    {
      "cell_type": "markdown",
      "id": "4ba3f29b",
      "metadata": {
        "id": "4ba3f29b"
      },
      "source": [
        "\n",
        "# Getting Started\n",
        "\n",
        "Mostly you're going to follow along, executing code blocks as we go. \n",
        "\n",
        "\n"
      ]
    },
    {
      "cell_type": "markdown",
      "source": [
        "#### First, we'll import SymPy\n",
        "(I'm also importing matplotlib just for good measure)\n",
        "\n",
        "# After you run the next code block you should restart the runtime and run the code block a second time. "
      ],
      "metadata": {
        "id": "xwZwdWrQh_Iq"
      },
      "id": "xwZwdWrQh_Iq"
    },
    {
      "cell_type": "code",
      "execution_count": null,
      "id": "ffcea1ae",
      "metadata": {
        "id": "ffcea1ae"
      },
      "outputs": [],
      "source": [
        "\n",
        "\n",
        "%matplotlib inline\n",
        "import matplotlib.pyplot as plt\n",
        "!pip install sympy --upgrade\n",
        "\n",
        "import sympy as sp\n",
        "\n",
        "print(\"**************************************************************\")\n",
        "print(\"    After running this cell for the first time, please\")\n",
        "print(\"    Restart the runtime and then run it a second time    \")\n",
        "print(\"**************************************************************\")\n"
      ]
    },
    {
      "cell_type": "markdown",
      "source": [
        "#### Now we need to copy Dr. Kay's code to the local Runtime ..."
      ],
      "metadata": {
        "id": "xvlzdXnRZZbN"
      },
      "id": "xvlzdXnRZZbN"
    },
    {
      "cell_type": "code",
      "source": [
        "import requests\n",
        "\n",
        "# ------------ copy file from url to local runtime environment ------------------- \n",
        "def copyFileToRuntime(url, filename):\n",
        "  r = requests.get(url)\n",
        "  with open(filename, 'w') as f:\n",
        "    f.write(r.text)\n",
        "\n",
        "# Add Dr. Kay's files to colab working directory\n",
        "url = \"https://raw.githubusercontent.com/jenniferskay/kinematics-problems-02/master/\"\n",
        "filename = \"kay_symbolic_transforms.py\"\n",
        "copyFileToRuntime(url+filename, filename)\n"
      ],
      "metadata": {
        "id": "0BRL6CkIejT6"
      },
      "id": "0BRL6CkIejT6",
      "execution_count": 2,
      "outputs": []
    },
    {
      "cell_type": "markdown",
      "id": "1b103992",
      "metadata": {
        "id": "1b103992"
      },
      "source": [
        "#### And set up pretty-printing ... "
      ]
    },
    {
      "cell_type": "code",
      "execution_count": 3,
      "id": "72ce0752",
      "metadata": {
        "id": "72ce0752"
      },
      "outputs": [],
      "source": [
        "sp.init_printing(use_unicode=True)\n",
        "\n",
        "from IPython.display import display as prettyPrint"
      ]
    },
    {
      "cell_type": "markdown",
      "id": "65931268",
      "metadata": {
        "id": "65931268"
      },
      "source": [
        "#### Next, we will \"declare\" a new SymPy symbol called x\n",
        "\n",
        "*(Note - don't tell your friends that you can \"declare\" symbols in SymPy - you can't really \"declare\" anything in Python and SymPy is a Python library. For the purposes of our class, I'm just going to call that \"declaring x to be a symbolic variable.\" If you're an experienced Python programmer, you'll know that's not really what's going on behind the scenes, but just bear with me on this.)* "
      ]
    },
    {
      "cell_type": "code",
      "execution_count": 4,
      "id": "9db03a73",
      "metadata": {
        "id": "9db03a73"
      },
      "outputs": [],
      "source": [
        "x = sp.symbols(\"x\")"
      ]
    },
    {
      "cell_type": "markdown",
      "id": "b69cf98b",
      "metadata": {
        "id": "b69cf98b"
      },
      "source": [
        "#### And let's make y a function of x"
      ]
    },
    {
      "cell_type": "code",
      "execution_count": 5,
      "id": "519faad2",
      "metadata": {
        "id": "519faad2"
      },
      "outputs": [],
      "source": [
        "y = 2*x + 3"
      ]
    },
    {
      "cell_type": "markdown",
      "id": "f8537dee",
      "metadata": {
        "id": "f8537dee"
      },
      "source": [
        "\n",
        "<h2 style=\"color:#EE3377\">\n",
        "    Get ready! <p></h2> \n",
        "    \n",
        "\n",
        "The next cell will print the value of y ... \n",
        "\n",
        "Run it, and see what it says y's value is ... "
      ]
    },
    {
      "cell_type": "code",
      "execution_count": null,
      "id": "4c7dbd59",
      "metadata": {
        "id": "4c7dbd59"
      },
      "outputs": [],
      "source": [
        "y"
      ]
    },
    {
      "cell_type": "markdown",
      "id": "6e13bc61",
      "metadata": {
        "id": "6e13bc61"
      },
      "source": [
        "#### So what is x? Let's take a look:"
      ]
    },
    {
      "cell_type": "code",
      "execution_count": null,
      "id": "cec31dd3",
      "metadata": {
        "id": "cec31dd3"
      },
      "outputs": [],
      "source": [
        "x"
      ]
    },
    {
      "cell_type": "markdown",
      "id": "62c16804",
      "metadata": {
        "id": "62c16804"
      },
      "source": [
        "That's not too exciting. But we could ask SymPy to do the following:\n",
        "\n",
        "#### Show me the value of y if x were equal to 6:"
      ]
    },
    {
      "cell_type": "code",
      "execution_count": null,
      "id": "6950b657",
      "metadata": {
        "id": "6950b657"
      },
      "outputs": [],
      "source": [
        "y.subs(x, 6)"
      ]
    },
    {
      "cell_type": "markdown",
      "id": "61ef2703",
      "metadata": {
        "id": "61ef2703"
      },
      "source": [
        "#### Note that we haven't changed x or y, the above was just a \"what if\" "
      ]
    },
    {
      "cell_type": "code",
      "execution_count": null,
      "id": "c65d380f",
      "metadata": {
        "id": "c65d380f"
      },
      "outputs": [],
      "source": [
        "x"
      ]
    },
    {
      "cell_type": "code",
      "execution_count": null,
      "id": "575e68a2",
      "metadata": {
        "id": "575e68a2"
      },
      "outputs": [],
      "source": [
        "y"
      ]
    },
    {
      "cell_type": "markdown",
      "id": "a993c9a8",
      "metadata": {
        "id": "a993c9a8"
      },
      "source": [
        "#### Show me the value of y*4 if x were equal to -3: "
      ]
    },
    {
      "cell_type": "code",
      "execution_count": null,
      "id": "69681cac",
      "metadata": {
        "id": "69681cac"
      },
      "outputs": [],
      "source": [
        "(y*4).subs(x, -3)"
      ]
    },
    {
      "cell_type": "markdown",
      "id": "f187892e",
      "metadata": {
        "id": "f187892e"
      },
      "source": [
        "# Using Dr. Kay's Symbolic Transforms Library\n",
        "\n",
        "You should have a file called \"kay_symbolic_transforms.py\" in the same folder as this notebook. \n",
        "\n",
        "#### Let's start by importing the library:"
      ]
    },
    {
      "cell_type": "code",
      "execution_count": 12,
      "id": "65c70c3d",
      "metadata": {
        "id": "65c70c3d"
      },
      "outputs": [],
      "source": [
        "import kay_symbolic_transforms as symt"
      ]
    },
    {
      "cell_type": "markdown",
      "id": "280ae797",
      "metadata": {
        "id": "280ae797"
      },
      "source": [
        "This library offers more or less the same functionality that my NumPy homogeneous transforms library had, but I've modified some of the function names slightly. Look at the code for details.\n",
        "\n",
        "#### Just as before, we can create matrices like Trans(1,2,3):"
      ]
    },
    {
      "cell_type": "code",
      "execution_count": null,
      "id": "aa8a81d8",
      "metadata": {
        "id": "aa8a81d8"
      },
      "outputs": [],
      "source": [
        "symt.spTrans(1, 2, 3)"
      ]
    },
    {
      "cell_type": "markdown",
      "id": "968a75bb",
      "metadata": {
        "id": "968a75bb"
      },
      "source": [
        "But now we can also create matrices that contain symbols. \n",
        "\n",
        "#### Let's declare three more symbols: a, b, and c. (Here's a shortcut that lets us declare all of them in one statement): "
      ]
    },
    {
      "cell_type": "code",
      "execution_count": 14,
      "id": "e1d9ca7b",
      "metadata": {
        "id": "e1d9ca7b"
      },
      "outputs": [],
      "source": [
        "a, b, c = sp.symbols(\"a,b,c\")"
      ]
    },
    {
      "cell_type": "markdown",
      "id": "46da3065",
      "metadata": {
        "id": "46da3065"
      },
      "source": [
        "#### And use these to make a new transform:"
      ]
    },
    {
      "cell_type": "code",
      "execution_count": null,
      "id": "fe18f3c0",
      "metadata": {
        "id": "fe18f3c0"
      },
      "outputs": [],
      "source": [
        "symt.spTrans(a,b,c)"
      ]
    },
    {
      "cell_type": "markdown",
      "id": "6035a849",
      "metadata": {
        "id": "6035a849"
      },
      "source": [
        "#### Multiplying matrices in SymPy is easy, we just use <code>*</code>"
      ]
    },
    {
      "cell_type": "code",
      "execution_count": null,
      "id": "ce23893f",
      "metadata": {
        "id": "ce23893f"
      },
      "outputs": [],
      "source": [
        "symt.spTrans(1,2,3) * symt.spTrans(a,b,c)"
      ]
    },
    {
      "cell_type": "markdown",
      "id": "279a4f8b",
      "metadata": {
        "id": "279a4f8b"
      },
      "source": [
        "# Printing Issues\n",
        "You may have noticed that up to this point I haven't \"printed\" any SymPy expressions, and limited myself to just one expression per code block. \n",
        "\n",
        "#### Let's assign our two matrices to the Python variables foo and bar, and multiply them together:"
      ]
    },
    {
      "cell_type": "code",
      "execution_count": 17,
      "id": "9dfb2698",
      "metadata": {
        "id": "9dfb2698"
      },
      "outputs": [],
      "source": [
        "foo = symt.spTrans(1,2,3)\n",
        "bar = symt.spTrans(a,b,c)\n",
        "result = foo*bar"
      ]
    },
    {
      "cell_type": "markdown",
      "id": "884c0119",
      "metadata": {
        "id": "884c0119"
      },
      "source": [
        "It seems to work, but of course there's no output. \n",
        "#### If we use a print statement, it's not exactly beautiful:"
      ]
    },
    {
      "cell_type": "code",
      "execution_count": null,
      "id": "288dd000",
      "metadata": {
        "id": "288dd000"
      },
      "outputs": [],
      "source": [
        "print(\"foo is:\")\n",
        "print (foo)\n",
        "print (\"\\nbar is:\")\n",
        "print (bar)\n",
        "print (\"\\nand result is:\")\n",
        "print (result)"
      ]
    },
    {
      "cell_type": "markdown",
      "id": "0054b2d9",
      "metadata": {
        "id": "0054b2d9"
      },
      "source": [
        "<hr>\n",
        "<p>\n",
        "SymPy offers a pprint function that prints things relatively nicely, in fact we set it up at the very top of this file when we ran the code:<p>\n",
        "    <code>sp.init_printing(use_unicode=True)</code>\n",
        "    \n",
        "#### So a slightly nicer way to print is:"
      ]
    },
    {
      "cell_type": "code",
      "execution_count": null,
      "id": "c75acfb8",
      "metadata": {
        "id": "c75acfb8"
      },
      "outputs": [],
      "source": [
        "print(\"foo is:\")\n",
        "sp.pprint (foo)\n",
        "print (\"\\nbar is:\")\n",
        "sp.pprint (bar)\n",
        "print (\"\\nand result is:\")\n",
        "sp.pprint (result)"
      ]
    },
    {
      "cell_type": "markdown",
      "id": "f3ca43d4",
      "metadata": {
        "id": "f3ca43d4"
      },
      "source": [
        "<hr>\n",
        "<p>\n",
        "But because we're using Jupyter notebooks (which uses IPython), we have the option of displaying things more beautifully as we've been doing above. The trick is that you need to use the IPython display method, which we imported above as prettyPrint\n",
        "        <code>from IPython.display import display as prettyPrint</code>\n",
        "    \n",
        "#### So now we can print things nicely:"
      ]
    },
    {
      "cell_type": "code",
      "execution_count": null,
      "id": "4920a7a1",
      "metadata": {
        "id": "4920a7a1"
      },
      "outputs": [],
      "source": [
        "print(\"foo is:\")\n",
        "prettyPrint(foo)\n",
        "print (\"\\nbar is:\")\n",
        "prettyPrint(bar)\n",
        "print (\"\\nand result is:\")\n",
        "prettyPrint(result)"
      ]
    },
    {
      "cell_type": "markdown",
      "id": "737168a4",
      "metadata": {
        "id": "737168a4"
      },
      "source": [
        "#### And, of course, that includes printing matrices with substitutions for variables:"
      ]
    },
    {
      "cell_type": "code",
      "execution_count": 21,
      "id": "a807ac8d",
      "metadata": {
        "id": "a807ac8d",
        "colab": {
          "base_uri": "https://localhost:8080/",
          "height": 98
        },
        "outputId": "05ec3569-45c0-418c-9f3c-1cdcbf4e72c7"
      },
      "outputs": [
        {
          "output_type": "display_data",
          "data": {
            "text/plain": [
              "⎡1  0  0    5  ⎤\n",
              "⎢              ⎥\n",
              "⎢0  1  0  b + 2⎥\n",
              "⎢              ⎥\n",
              "⎢0  0  1  c + 3⎥\n",
              "⎢              ⎥\n",
              "⎣0  0  0    1  ⎦"
            ],
            "text/latex": "$\\displaystyle \\left[\\begin{matrix}1 & 0 & 0 & 5\\\\0 & 1 & 0 & b + 2\\\\0 & 0 & 1 & c + 3\\\\0 & 0 & 0 & 1\\end{matrix}\\right]$"
          },
          "metadata": {}
        }
      ],
      "source": [
        "prettyPrint(result.subs(a,4))"
      ]
    },
    {
      "cell_type": "markdown",
      "id": "d6a985c1",
      "metadata": {
        "id": "d6a985c1"
      },
      "source": [
        "# Limiting the number of decimal places in your output\n",
        "\n",
        "#### My demos above have only included simple Trans operations because I wanted the output to be simple. But when you start doing rotations, it can get nasty:"
      ]
    },
    {
      "cell_type": "code",
      "execution_count": null,
      "id": "33dc32c0",
      "metadata": {
        "id": "33dc32c0"
      },
      "outputs": [],
      "source": [
        "baz = symt.degreesSpRotY(90)\n",
        "prettyPrint(baz)"
      ]
    },
    {
      "cell_type": "markdown",
      "id": "2d144f2f",
      "metadata": {
        "id": "2d144f2f"
      },
      "source": [
        "#### But inside of my code file, I've given you a roundExpr method that cleans things up by rounding to num_digits decimal places:"
      ]
    },
    {
      "cell_type": "code",
      "execution_count": null,
      "id": "92790f1e",
      "metadata": {
        "id": "92790f1e"
      },
      "outputs": [],
      "source": [
        "prettyPrint(symt.roundExpr(baz, num_decimal_places = 2))"
      ]
    },
    {
      "cell_type": "markdown",
      "id": "d5a95682",
      "metadata": {
        "id": "d5a95682"
      },
      "source": [
        "<p> &nbsp </p>\n",
        "\n",
        "# Testing Matrix and Point Equality\n",
        "\n",
        "#### Important: my <code>symt.isCloseToEqual()</code> method may have weird results if you run it on something that isn't a matrix or a point \n",
        "\n",
        "\n",
        "Testing equality in SymPy isn't quite as simple as it was in NumPy, so I've written a <code>symt.isCloseToEqual()</code> method for you that will test whether two Matrices or Points are equal. \n",
        "\n",
        "\n",
        "You tell it how many decimal places to test to. So for example ... let's make a quick helper function so we can test things rapidly:"
      ]
    },
    {
      "cell_type": "code",
      "execution_count": 24,
      "id": "08035485",
      "metadata": {
        "id": "08035485"
      },
      "outputs": [],
      "source": [
        "def demoTheEqualityFunction(exprOne, exprTwo, nameOne, nameTwo, howExact):\n",
        "    if symt.isCloseToEqual(exprOne, exprTwo, num_decimal_places = howExact):\n",
        "       print(nameOne, \"IS Close to Equal to\", nameTwo,\"within\", howExact, \"decimal places\")\n",
        "    else:\n",
        "       print(nameOne, \"IS NOT Close to Equal to\", nameTwo,\"within\", howExact, \"decimal places\")\n",
        "\n"
      ]
    },
    {
      "cell_type": "markdown",
      "id": "1a92a11d",
      "metadata": {
        "id": "1a92a11d"
      },
      "source": [
        "#### Here's a test on a couple of points:"
      ]
    },
    {
      "cell_type": "code",
      "execution_count": null,
      "id": "545222ae",
      "metadata": {
        "id": "545222ae"
      },
      "outputs": [],
      "source": [
        "p1 = symt.makeSpPoint(1,2,3)\n",
        "print(\"p1 is:\")\n",
        "prettyPrint(p1)\n",
        "\n",
        "p2 = symt.makeSpPoint(1,2,3.001)\n",
        "print(\"\\n\\np2 is:\")\n",
        "prettyPrint(p2)\n",
        "\n",
        "print (\"shape is\",sp.shape(p1))\n",
        "\n",
        "for i in range(5):\n",
        "    demoTheEqualityFunction(p1, p2, \"p1\", \"p2\", i)\n",
        "    "
      ]
    },
    {
      "cell_type": "markdown",
      "id": "903cc142",
      "metadata": {
        "id": "903cc142"
      },
      "source": [
        "#### And two matrices:"
      ]
    },
    {
      "cell_type": "code",
      "execution_count": null,
      "id": "1d1f7fba",
      "metadata": {
        "id": "1d1f7fba"
      },
      "outputs": [],
      "source": [
        "mx1 = symt.degreesSpRotX(90)\n",
        "print (\"mx1 is\")\n",
        "prettyPrint(mx1)\n",
        "\n",
        "mx2 = symt.degreesSpRotX(91)\n",
        "print (\"\\n\\nmx2 is\")\n",
        "prettyPrint(mx2)\n",
        "\n",
        "for i in range(5):\n",
        "    demoTheEqualityFunction(mx1, mx2, \"mx1\", \"mx2\", i)"
      ]
    },
    {
      "cell_type": "markdown",
      "id": "ace978e4",
      "metadata": {
        "id": "ace978e4"
      },
      "source": [
        "#### It works on expressions that contain symbolic values too"
      ]
    },
    {
      "cell_type": "code",
      "execution_count": null,
      "id": "569ee81e",
      "metadata": {
        "id": "569ee81e"
      },
      "outputs": [],
      "source": [
        "print (\"y is:\")\n",
        "prettyPrint(y)\n",
        "\n",
        "z = 2.001*x+3\n",
        "print(\"\\nz is:\")\n",
        "prettyPrint(z)\n",
        "\n",
        "mx3 = symt.spTrans(1,2,y)\n",
        "print(\"mx3 is:\")\n",
        "prettyPrint(mx3)\n",
        "\n",
        "mx4 = symt.spTrans(1,2,z)\n",
        "print(\"mx3 is:\")\n",
        "prettyPrint(mx3)\n",
        "\n",
        "for i in range(5):\n",
        "    demoTheEqualityFunction(mx3, mx4, \"mx3\", \"mx4\", i)\n"
      ]
    },
    {
      "cell_type": "code",
      "execution_count": null,
      "id": "6304eb4e",
      "metadata": {
        "id": "6304eb4e"
      },
      "outputs": [],
      "source": [
        "y"
      ]
    },
    {
      "cell_type": "code",
      "execution_count": null,
      "id": "ed00ac2f",
      "metadata": {
        "id": "ed00ac2f"
      },
      "outputs": [],
      "source": [
        "foo= symt.spTrans(0,1,0.000000001)\n",
        "bar = symt.spTrans(0,1,0)\n",
        "print(symt.isCloseToEqual(foo,bar,1))\n"
      ]
    },
    {
      "cell_type": "markdown",
      "id": "aea52a28",
      "metadata": {
        "id": "aea52a28"
      },
      "source": [
        "<p> &nbsp;</p>\n",
        "<hr>\n",
        "\n",
        "# Final Tip: Greek Letters\n",
        "\n",
        "You can use Greek letters as python and sympy variables. For example:\n",
        "* Type <code>\\alpha</code>, and then press tab. \n",
        "    * You should now see the symbol <code>α</code>\n",
        "* You could now write more on that line, maybe something like:\n",
        "    * <code>α = 3.14</code>\n",
        "* And if you want you can then \n",
        "    * <code>print(α)</code>\n",
        "    \n",
        " "
      ]
    },
    {
      "cell_type": "markdown",
      "id": "5824ba49",
      "metadata": {
        "id": "5824ba49"
      },
      "source": [
        "# Acknowledgements & Further Reading\n",
        "I didn't know about the greek letter trick until I took a look at: https://dynamics-and-control.readthedocs.io/en/latest/0_Getting_Started/Notebook%20introduction.html. If you're interested in a much deeper dive into the wide variety of stuff that SymPy can do in Jupyter Notebooks, I think this is a really nice resource. "
      ]
    },
    {
      "cell_type": "code",
      "execution_count": 29,
      "id": "159c2518",
      "metadata": {
        "id": "159c2518"
      },
      "outputs": [],
      "source": []
    }
  ],
  "metadata": {
    "kernelspec": {
      "display_name": "Python 3 (ipykernel)",
      "language": "python",
      "name": "python3"
    },
    "language_info": {
      "codemirror_mode": {
        "name": "ipython",
        "version": 3
      },
      "file_extension": ".py",
      "mimetype": "text/x-python",
      "name": "python",
      "nbconvert_exporter": "python",
      "pygments_lexer": "ipython3",
      "version": "3.9.7"
    },
    "colab": {
      "provenance": [],
      "collapsed_sections": [
        "280ae797",
        "968a75bb",
        "46da3065",
        "6035a849",
        "884c0119",
        "0054b2d9",
        "f3ca43d4",
        "737168a4",
        "2d144f2f",
        "1a92a11d",
        "903cc142",
        "ace978e4"
      ]
    }
  },
  "nbformat": 4,
  "nbformat_minor": 5
}